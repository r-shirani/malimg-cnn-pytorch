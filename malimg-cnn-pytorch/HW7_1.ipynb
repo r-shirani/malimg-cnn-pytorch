{
  "cells": [
    {
      "cell_type": "markdown",
      "metadata": {
        "id": "428TR9Z4LpID"
      },
      "source": [
        "کتابخانه‌های مورد نیاز برای کار با تصاویر، شبکه‌های عصبی، پردازش و تقسیم داده"
      ]
    },
    {
      "cell_type": "code",
      "execution_count": 29,
      "metadata": {
        "id": "HzpTaQIkLxPK"
      },
      "outputs": [],
      "source": [
        "import os\n",
        "import numpy as np\n",
        "from PIL import Image\n",
        "from sklearn.model_selection import train_test_split\n",
        "from sklearn.preprocessing import LabelEncoder\n",
        "\n",
        "import torch\n",
        "import torch.nn as nn\n",
        "import torch.nn.functional as F\n",
        "from torch.utils.data import Dataset, DataLoader"
      ]
    },
    {
      "cell_type": "markdown",
      "metadata": {
        "id": "F9F8X3EzMEsm"
      },
      "source": [
        "---\n"
      ]
    },
    {
      "cell_type": "markdown",
      "metadata": {
        "id": "zwmAkO4DMTC_"
      },
      "source": [
        "malimg dataset:"
      ]
    },
    {
      "cell_type": "code",
      "execution_count": 30,
      "metadata": {
        "id": "4pFFNRiPMUDR"
      },
      "outputs": [],
      "source": [
        "class MalimgDataset(Dataset):\n",
        "    def __init__(self, root_dir):\n",
        "        self.data = []\n",
        "        self.labels = []\n",
        "        all_labels = []\n",
        "\n",
        "        for label in os.listdir(root_dir):\n",
        "            folder = os.path.join(root_dir, label)\n",
        "            if not os.path.isdir(folder):  # just folders\n",
        "                continue\n",
        "\n",
        "            for file in os.listdir(folder):\n",
        "                img_path = os.path.join(folder, file)\n",
        "\n",
        "                # just image files\n",
        "                if not file.lower().endswith(('.png', '.jpg', '.jpeg', '.bmp')):\n",
        "                    continue\n",
        "\n",
        "                try:\n",
        "                    img = Image.open(img_path).convert('L').resize((64, 64))  # grayscale + resize\n",
        "                    self.data.append(np.array(img))\n",
        "                    all_labels.append(label)\n",
        "                except Exception as e:\n",
        "                    print(f\"error in openning the image file: {img_path}\\n↳ {e}\")\n",
        "\n",
        "        # Encode labels\n",
        "        from sklearn.preprocessing import LabelEncoder\n",
        "        le = LabelEncoder()\n",
        "        self.labels = le.fit_transform(all_labels)\n",
        "        self.data = np.array(self.data)\n",
        "        self.labels = np.array(self.labels)\n",
        "\n",
        "    def __len__(self):\n",
        "        return len(self.data)\n",
        "\n",
        "    def __getitem__(self, idx):\n",
        "        x = self.data[idx].astype(np.float32) / 255.0  # Normalize to 0–1 and float\n",
        "        y = self.labels[idx]\n",
        "        x = torch.tensor(x).unsqueeze(0)  # Add channel dimension (1, 64, 64)\n",
        "        y = torch.tensor(y).long()\n",
        "        return x, y\n"
      ]
    },
    {
      "cell_type": "markdown",
      "metadata": {
        "id": "Os9p8tOSMtuh"
      },
      "source": [
        "convert('L') تبدیل عکس‌ها به سیاه وسفید توسط\n",
        "\n",
        "استفاده میکنیمunsqueeze(0) برای اضافه کردن چنل از\n",
        "\n",
        "برای نرمال سازی بین 0و1 بر 255 تقسیم میکنیم"
      ]
    },
    {
      "cell_type": "markdown",
      "metadata": {
        "id": "RR04ryCUNn2H"
      },
      "source": [
        "---\n"
      ]
    },
    {
      "cell_type": "markdown",
      "metadata": {
        "id": "tsShUFAlNqWk"
      },
      "source": [
        "CNN طراحی معماری"
      ]
    },
    {
      "cell_type": "code",
      "execution_count": 31,
      "metadata": {
        "id": "Uv0gYAmbM9AA"
      },
      "outputs": [],
      "source": [
        "class SimpleCNN(nn.Module):\n",
        "    def __init__(self):\n",
        "        super(SimpleCNN, self).__init__()\n",
        "        self.conv1 = nn.Conv2d(1, 16, kernel_size=3, padding=1)  # 64x64 → 64x64\n",
        "        self.pool = nn.MaxPool2d(2, 2)                           # 64x64 → 32x32\n",
        "        self.conv2 = nn.Conv2d(16, 32, kernel_size=3, padding=1) # 32x32 → 32x32 → 16x16\n",
        "\n",
        "        self.fc1 = nn.Linear(32 * 16 * 16, 128)\n",
        "        self.fc2 = nn.Linear(128, 25)  # hypothetically there is 25 classes\n",
        "\n",
        "    def forward(self, x):\n",
        "        x = self.pool(F.relu(self.conv1(x)))  # conv1 + ReLU + maxpool\n",
        "        x = self.pool(F.relu(self.conv2(x)))  # conv2 + ReLU + maxpool\n",
        "        x = x.view(-1, 32 * 16 * 16)          # Flatten\n",
        "        x = F.relu(self.fc1(x))              # FC1 + ReLU\n",
        "        x = self.fc2(x)                      #  final result (Logits)\n",
        "        return x\n"
      ]
    },
    {
      "cell_type": "markdown",
      "metadata": {
        "id": "tUJ3iKwcODfe"
      },
      "source": [
        "در این قسمت از کد تصاویر 64*64 را با یک کانال دریافت میکنیم و به 25 کلاس خروجی میدهیم"
      ]
    },
    {
      "cell_type": "markdown",
      "metadata": {
        "id": "l70bzVxQOTr8"
      },
      "source": [
        "برای حفظ سایز استفاده میکنیم padding از دولایه کانولوشن با"
      ]
    },
    {
      "cell_type": "markdown",
      "metadata": {
        "id": "QcObGWKqOlUY"
      },
      "source": [
        "استفاده میکنیمMaxPooling برای کاهش ابعاد از دولایه"
      ]
    },
    {
      "cell_type": "markdown",
      "metadata": {
        "id": "V9wsusnWO6AG"
      },
      "source": [
        "با 128 نورون استفاده میکنیم Fully Connected از یک لایه"
      ]
    },
    {
      "cell_type": "markdown",
      "metadata": {
        "id": "cpY_pMejPGOC"
      },
      "source": [
        "لایه خروجی 25 نورون (تعداد کلاس‌ها) دارد"
      ]
    },
    {
      "cell_type": "markdown",
      "metadata": {
        "id": "DOxT0LljRikK"
      },
      "source": [
        "است kernel_size=3 کوچک و رایج برای استخراج‌های محلی"
      ]
    },
    {
      "cell_type": "markdown",
      "metadata": {
        "id": "Rt87cnHHRwEQ"
      },
      "source": [
        "مناسب برا یحفظ اندازه تصویر است padding=1"
      ]
    },
    {
      "cell_type": "markdown",
      "metadata": {
        "id": "YEMS9wDaSWlW"
      },
      "source": [
        "است filters=(16 and 32) overfitting تعداد مناسب برای شبکه ساده و بدون"
      ]
    },
    {
      "cell_type": "markdown",
      "metadata": {
        "id": "MJRzCI5LUu4n"
      },
      "source": [
        "---\n"
      ]
    },
    {
      "cell_type": "markdown",
      "metadata": {
        "id": "qIYr88lvUm3E"
      },
      "source": [
        "استفاده از دیتاست آماده از منبع زیر\n",
        "\n",
        "https://github.com/spoinguscar/malimg-dataset"
      ]
    },
    {
      "cell_type": "markdown",
      "metadata": {
        "id": "avQypfj8POTZ"
      },
      "source": [
        "---\n"
      ]
    },
    {
      "cell_type": "markdown",
      "metadata": {
        "id": "SLhsPZOYPPmK"
      },
      "source": [
        "DataLoader تقسیم داده و ساخت"
      ]
    },
    {
      "cell_type": "code",
      "execution_count": 32,
      "metadata": {
        "colab": {
          "base_uri": "https://localhost:8080/",
          "height": 349
        },
        "id": "jnnhtwAQOkGj",
        "outputId": "94f1a4dc-8eca-416f-df27-ac163752da2a"
      },
      "outputs": [
        {
          "name": "stdout",
          "output_type": "stream",
          "text": [
            "True\n"
          ]
        }
      ],
      "source": [
        "# hyper parameters\n",
        "batch_size = 32\n",
        "learning_rate = 0.001\n",
        "\n",
        "# loading datasets\n",
        "path = r'E:\\uni\\cyberSecurity\\HW7\\A\\malimg-dataset'\n",
        "print(os.path.exists(path))\n",
        "dataset = MalimgDataset(path)\n",
        "\n",
        "\n",
        "# train and test\n",
        "train_data, test_data = train_test_split(dataset, test_size=0.2, random_state=42)\n",
        "\n",
        "# data loaders\n",
        "train_loader = DataLoader(train_data, batch_size=batch_size, shuffle=True)\n",
        "test_loader = DataLoader(test_data, batch_size=batch_size)\n"
      ]
    },
    {
      "cell_type": "markdown",
      "metadata": {
        "id": "J1a_8Kn3RAHL"
      },
      "source": [
        "batch_size=32 رایج ترین مقدار برای تعادل بین سرعت و دقت"
      ]
    },
    {
      "cell_type": "markdown",
      "metadata": {
        "id": "iUI7NixrRSsj"
      },
      "source": [
        "مناسب است learning_rate=0.001 برای شروع"
      ]
    },
    {
      "cell_type": "markdown",
      "metadata": {
        "id": "l0XlyiFxQE8n"
      },
      "source": [
        "---\n"
      ]
    },
    {
      "cell_type": "markdown",
      "metadata": {
        "id": "sb3kHgg9QH3W"
      },
      "source": [
        "optimizer and loss function تعریف مدل و"
      ]
    },
    {
      "cell_type": "code",
      "execution_count": 33,
      "metadata": {
        "id": "yjGgDm_HQQPq"
      },
      "outputs": [],
      "source": [
        "device = torch.device(\"cuda\" if torch.cuda.is_available() else \"cpu\")\n",
        "\n",
        "model = SimpleCNN().to(device)\n",
        "criterion = nn.CrossEntropyLoss()\n",
        "optimizer = torch.optim.Adam(model.parameters(), lr=learning_rate)"
      ]
    },
    {
      "cell_type": "markdown",
      "metadata": {
        "id": "XU8AGdBFQTIo"
      },
      "source": [
        "---\n"
      ]
    },
    {
      "cell_type": "markdown",
      "metadata": {
        "id": "JOnrEDLvQUID"
      },
      "source": [
        "آموزش مدل"
      ]
    },
    {
      "cell_type": "code",
      "execution_count": 34,
      "metadata": {
        "id": "JdzmGqOiQX04"
      },
      "outputs": [
        {
          "name": "stdout",
          "output_type": "stream",
          "text": [
            "Epoch 1/10, Loss: 242.0686\n",
            "Epoch 2/10, Loss: 42.6859\n",
            "Epoch 3/10, Loss: 31.0928\n",
            "Epoch 4/10, Loss: 25.0891\n",
            "Epoch 5/10, Loss: 20.0346\n",
            "Epoch 6/10, Loss: 18.5526\n",
            "Epoch 7/10, Loss: 17.4679\n",
            "Epoch 8/10, Loss: 15.9720\n",
            "Epoch 9/10, Loss: 15.1091\n",
            "Epoch 10/10, Loss: 13.5058\n"
          ]
        }
      ],
      "source": [
        "num_epochs = 10\n",
        "\n",
        "for epoch in range(num_epochs):\n",
        "    model.train()\n",
        "    running_loss = 0.0\n",
        "    for images, labels in train_loader:\n",
        "        images, labels = images.to(device), labels.to(device)\n",
        "\n",
        "        optimizer.zero_grad()\n",
        "        outputs = model(images)\n",
        "        loss = criterion(outputs, labels)\n",
        "        loss.backward()\n",
        "        optimizer.step()\n",
        "\n",
        "        running_loss += loss.item()\n",
        "\n",
        "    print(f\"Epoch {epoch+1}/{num_epochs}, Loss: {running_loss:.4f}\")\n"
      ]
    },
    {
      "cell_type": "markdown",
      "metadata": {
        "id": "OV5aYpmcR4Fb"
      },
      "source": [
        "کافی و سریع است num_epochs=10 برای مشاهده روند آموزش"
      ]
    },
    {
      "cell_type": "markdown",
      "metadata": {
        "id": "84GnNlYoQfkX"
      },
      "source": [
        "---\n"
      ]
    },
    {
      "cell_type": "markdown",
      "metadata": {
        "id": "UsN-q2MpQk1p"
      },
      "source": [
        "ارزیابی مدل روی داده تست"
      ]
    },
    {
      "cell_type": "code",
      "execution_count": 35,
      "metadata": {
        "id": "jg2sXxkqQggZ"
      },
      "outputs": [
        {
          "name": "stdout",
          "output_type": "stream",
          "text": [
            "Test Accuracy: 97.81%\n"
          ]
        }
      ],
      "source": [
        "model.eval()\n",
        "correct = 0\n",
        "total = 0\n",
        "\n",
        "with torch.no_grad():\n",
        "    for images, labels in test_loader:\n",
        "        images, labels = images.to(device), labels.to(device)\n",
        "        outputs = model(images)\n",
        "        _, predicted = torch.max(outputs, 1)\n",
        "        total += labels.size(0)\n",
        "        correct += (predicted == labels).sum().item()\n",
        "\n",
        "accuracy = 100 * correct / total\n",
        "print(f\"Test Accuracy: {accuracy:.2f}%\")\n"
      ]
    }
  ],
  "metadata": {
    "colab": {
      "provenance": []
    },
    "kernelspec": {
      "display_name": "Python 3",
      "name": "python3"
    },
    "language_info": {
      "codemirror_mode": {
        "name": "ipython",
        "version": 3
      },
      "file_extension": ".py",
      "mimetype": "text/x-python",
      "name": "python",
      "nbconvert_exporter": "python",
      "pygments_lexer": "ipython3",
      "version": "3.11.8"
    }
  },
  "nbformat": 4,
  "nbformat_minor": 0
}
